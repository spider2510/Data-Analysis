{
 "cells": [
  {
   "cell_type": "code",
   "execution_count": 1,
   "metadata": {},
   "outputs": [],
   "source": [
    "import pandas as pd\n",
    "import matplotlib.pyplot as plt\n",
    "from scipy.stats import linregress"
   ]
  },
  {
   "cell_type": "code",
   "execution_count": 2,
   "metadata": {},
   "outputs": [],
   "source": [
    "\n",
    "\n",
    "def draw_plot():\n",
    "    # Read data from file\n",
    "    df = pd.read_csv(\"epa-sea-level.csv\")\n",
    "\n",
    "    # Create scatter plot\n",
    "    df.plot.scatter(x='Year', y=\"CSIRO Adjusted Sea Level\")\n",
    "    sr1 = pd.Series([int(i) for i in range(1880, 2050)])\n",
    "    # Create first line of best fit\n",
    "    slope, intercept, r_value, p_value, std_err  = linregress(df['Year'], df[\"CSIRO Adjusted Sea Level\"])\n",
    "    plt.plot(sr1, intercept + slope*sr1, 'r', label='fitted line')\n",
    "\n",
    "\n",
    "    # Create second line of best fit\n",
    "    recent = df[df['Year'] >= 2000]\n",
    "    slope, intercept, r_value, p_value, std_err  = linregress(recent['Year'], recent[\"CSIRO Adjusted Sea Level\"])\n",
    "\n",
    "    sr2 = pd.Series([int(i) for i in range(2000, 2050)])\n",
    "    recent.append(sr2, ignore_index=True)\n",
    "    plt.plot(sr2, intercept + slope*sr2, 'r', label='fitted line', color=\"orange\")\n",
    "\n",
    "    # Add labels and title\n",
    "    plt.title(\"Rise in Sea Level\")\n",
    "    plt.xlabel(\"Year\")\n",
    "    plt.ylabel(\"Sea Level (inches)\")\n",
    "    \n",
    "\n",
    "    # Save plot and return data for testing (DO NOT MODIFY)\n",
    "    plt.savefig('sea_level_plot.png')\n",
    "    return plt.gca()"
   ]
  },
  {
   "cell_type": "code",
   "execution_count": 3,
   "metadata": {},
   "outputs": [],
   "source": [
    "# https://repl.it/@AkhilWase/fcc-sea-level-predictor-1"
   ]
  },
  {
   "cell_type": "code",
   "execution_count": 4,
   "metadata": {},
   "outputs": [
    {
     "ename": "SyntaxError",
     "evalue": "invalid syntax (<ipython-input-4-b59872d5cdfe>, line 1)",
     "output_type": "error",
     "traceback": [
      "\u001b[1;36m  File \u001b[1;32m\"<ipython-input-4-b59872d5cdfe>\"\u001b[1;36m, line \u001b[1;32m1\u001b[0m\n\u001b[1;33m    https://www.freecodecamp.org/certification/fcc6ade3676-cac1-47a2-8fdb-34b13d13c94a/data-analysis-with-python-v7\u001b[0m\n\u001b[1;37m           ^\u001b[0m\n\u001b[1;31mSyntaxError\u001b[0m\u001b[1;31m:\u001b[0m invalid syntax\n"
     ]
    }
   ],
   "source": [
    "https://www.freecodecamp.org/certification/fcc6ade3676-cac1-47a2-8fdb-34b13d13c94a/data-analysis-with-python-v7"
   ]
  },
  {
   "cell_type": "code",
   "execution_count": null,
   "metadata": {},
   "outputs": [],
   "source": []
  }
 ],
 "metadata": {
  "kernelspec": {
   "display_name": "Python 3",
   "language": "python",
   "name": "python3"
  },
  "language_info": {
   "codemirror_mode": {
    "name": "ipython",
    "version": 3
   },
   "file_extension": ".py",
   "mimetype": "text/x-python",
   "name": "python",
   "nbconvert_exporter": "python",
   "pygments_lexer": "ipython3",
   "version": "3.7.1"
  }
 },
 "nbformat": 4,
 "nbformat_minor": 2
}
